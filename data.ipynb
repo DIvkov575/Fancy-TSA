{
 "cells": [
  {
   "metadata": {},
   "cell_type": "code",
   "outputs": [],
   "execution_count": null,
   "source": "import pandas as pd",
   "id": "39c0aed09953bd29"
  },
  {
   "metadata": {
    "ExecuteTime": {
     "end_time": "2025-08-27T01:16:37.119787Z",
     "start_time": "2025-08-27T01:16:37.108382Z"
    }
   },
   "cell_type": "code",
   "source": "pd.read_html(\"./data/nancy.html\")[0].to_csv(\"./data/nancy.tsv\", sep=\"\\t\", index=False)",
   "id": "98d3ffb12035cac9",
   "outputs": [],
   "execution_count": 29
  },
  {
   "metadata": {
    "ExecuteTime": {
     "end_time": "2025-08-27T01:20:12.947975Z",
     "start_time": "2025-08-27T01:20:12.936213Z"
    }
   },
   "cell_type": "code",
   "source": [
    "nancy = pd.read_csv('./data/nancy.tsv', delimiter=\"\\t\")\n",
    "\n",
    "nancy = nancy.rename(columns={\"Transaction Date\": \"Date\", \"Ticker\": \"Name\", \"Full Name\": \"Ticker\"})\n",
    "nancy[\"Date\"] = pd.to_datetime(nancy[\"Date\"])\n",
    "\n",
    "nancy.to_csv(\"./data/nancy.tsv\", sep=\"\\t\")\n",
    "nancy.head()"
   ],
   "id": "b83efc753077dcf8",
   "outputs": [
    {
     "data": {
      "text/plain": [
       "        Date                Name Ticker Transaction           Amount (USD)  \\\n",
       "0 2025-06-20       BROADCOM INC.   AVGO    Purchase  1,000,001 - 5,000,000   \n",
       "1 2025-01-14    AMAZON.COM, INC.   AMZN    Purchase      250,001 - 500,000   \n",
       "2 2025-01-14       ALPHABET INC.  GOOGL    Purchase      250,001 - 500,000   \n",
       "3 2025-01-14  NVIDIA CORPORATION   NVDA    Purchase      250,001 - 500,000   \n",
       "4 2025-01-14     TEMPUS AI, INC.    TEM    Purchase       50,001 - 100,000   \n",
       "\n",
       "                  Description  \n",
       "0  Exercised 200 Call Options  \n",
       "1   Purchased 50 Call Options  \n",
       "2   Purchased 50 Call Options  \n",
       "3   Purchased 50 Call Options  \n",
       "4   Purchased 50 Call Options  "
      ],
      "text/html": [
       "<div>\n",
       "<style scoped>\n",
       "    .dataframe tbody tr th:only-of-type {\n",
       "        vertical-align: middle;\n",
       "    }\n",
       "\n",
       "    .dataframe tbody tr th {\n",
       "        vertical-align: top;\n",
       "    }\n",
       "\n",
       "    .dataframe thead th {\n",
       "        text-align: right;\n",
       "    }\n",
       "</style>\n",
       "<table border=\"1\" class=\"dataframe\">\n",
       "  <thead>\n",
       "    <tr style=\"text-align: right;\">\n",
       "      <th></th>\n",
       "      <th>Date</th>\n",
       "      <th>Name</th>\n",
       "      <th>Ticker</th>\n",
       "      <th>Transaction</th>\n",
       "      <th>Amount (USD)</th>\n",
       "      <th>Description</th>\n",
       "    </tr>\n",
       "  </thead>\n",
       "  <tbody>\n",
       "    <tr>\n",
       "      <th>0</th>\n",
       "      <td>2025-06-20</td>\n",
       "      <td>BROADCOM INC.</td>\n",
       "      <td>AVGO</td>\n",
       "      <td>Purchase</td>\n",
       "      <td>1,000,001 - 5,000,000</td>\n",
       "      <td>Exercised 200 Call Options</td>\n",
       "    </tr>\n",
       "    <tr>\n",
       "      <th>1</th>\n",
       "      <td>2025-01-14</td>\n",
       "      <td>AMAZON.COM, INC.</td>\n",
       "      <td>AMZN</td>\n",
       "      <td>Purchase</td>\n",
       "      <td>250,001 - 500,000</td>\n",
       "      <td>Purchased 50 Call Options</td>\n",
       "    </tr>\n",
       "    <tr>\n",
       "      <th>2</th>\n",
       "      <td>2025-01-14</td>\n",
       "      <td>ALPHABET INC.</td>\n",
       "      <td>GOOGL</td>\n",
       "      <td>Purchase</td>\n",
       "      <td>250,001 - 500,000</td>\n",
       "      <td>Purchased 50 Call Options</td>\n",
       "    </tr>\n",
       "    <tr>\n",
       "      <th>3</th>\n",
       "      <td>2025-01-14</td>\n",
       "      <td>NVIDIA CORPORATION</td>\n",
       "      <td>NVDA</td>\n",
       "      <td>Purchase</td>\n",
       "      <td>250,001 - 500,000</td>\n",
       "      <td>Purchased 50 Call Options</td>\n",
       "    </tr>\n",
       "    <tr>\n",
       "      <th>4</th>\n",
       "      <td>2025-01-14</td>\n",
       "      <td>TEMPUS AI, INC.</td>\n",
       "      <td>TEM</td>\n",
       "      <td>Purchase</td>\n",
       "      <td>50,001 - 100,000</td>\n",
       "      <td>Purchased 50 Call Options</td>\n",
       "    </tr>\n",
       "  </tbody>\n",
       "</table>\n",
       "</div>"
      ]
     },
     "execution_count": 36,
     "metadata": {},
     "output_type": "execute_result"
    }
   ],
   "execution_count": 36
  },
  {
   "metadata": {},
   "cell_type": "code",
   "outputs": [],
   "source": "",
   "id": "512bb8c37e7a1a05",
   "execution_count": null
  }
 ],
 "metadata": {
  "kernelspec": {
   "name": "python3",
   "language": "python",
   "display_name": "Python 3 (ipykernel)"
  }
 },
 "nbformat": 5,
 "nbformat_minor": 9
}
