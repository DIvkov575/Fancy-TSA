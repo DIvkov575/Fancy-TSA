{
 "cells": [
  {
   "metadata": {
    "ExecuteTime": {
     "end_time": "2025-08-27T16:00:44.500939Z",
     "start_time": "2025-08-27T16:00:44.495278Z"
    }
   },
   "cell_type": "code",
   "source": "",
   "id": "2f72c9498b24e993",
   "outputs": [],
   "execution_count": 6
  },
  {
   "metadata": {
    "ExecuteTime": {
     "end_time": "2025-08-28T01:44:21.055224Z",
     "start_time": "2025-08-28T01:44:20.979365Z"
    }
   },
   "cell_type": "code",
   "source": [
    "import backtrader as bt\n",
    "import yfinance as yf\n",
    "from datetime import datetime\n",
    "\n",
    "# ---- 1. Define the simplest strategy ----\n",
    "class TestStrategy(bt.Strategy):\n",
    "    def next(self):\n",
    "        print(f\"{self.data.datetime.date(0)} | Close: {self.data.close[0]}\")\n",
    "\n",
    "# ---- 2. Download data (single string ticker, not a tuple) ----\n",
    "data = yf.download(\"AAPL\", start=\"2020-01-01\", end=\"2020-06-01\")\n",
    "\n",
    "# ---- 3. Wrap data for Backtrader ----\n",
    "feed = bt.feeds.PandasData(dataname=data)\n",
    "\n",
    "# ---- 4. Set up Cerebro ----\n",
    "cerebro = bt.Cerebro()\n",
    "cerebro.addstrategy(TestStrategy)   # no params, simplest\n",
    "cerebro.adddata(feed)\n",
    "cerebro.broker.setcash(10000)\n",
    "\n",
    "# ---- 5. Run ----\n",
    "print(\"Starting Portfolio Value:\", cerebro.broker.getvalue())\n",
    "cerebro.run()\n",
    "print(\"Final Portfolio Value:\", cerebro.broker.getvalue())\n"
   ],
   "id": "c5b610541e5ed149",
   "outputs": [
    {
     "name": "stdout",
     "output_type": "stream",
     "text": [
      "Starting Portfolio Value: 10000.0\n"
     ]
    },
    {
     "ename": "AttributeError",
     "evalue": "'tuple' object has no attribute 'lower'",
     "output_type": "error",
     "traceback": [
      "\u001B[31m---------------------------------------------------------------------------\u001B[39m",
      "\u001B[31mAttributeError\u001B[39m                            Traceback (most recent call last)",
      "\u001B[36mCell\u001B[39m\u001B[36m \u001B[39m\u001B[32mIn[19]\u001B[39m\u001B[32m, line 11\u001B[39m\n\u001B[32m      8\u001B[39m cerebro.broker.setcommission(\u001B[32m0.001\u001B[39m)  \u001B[38;5;66;03m# commission = 0.1%\u001B[39;00m\n\u001B[32m     10\u001B[39m \u001B[38;5;28mprint\u001B[39m(\u001B[33m\"\u001B[39m\u001B[33mStarting Portfolio Value:\u001B[39m\u001B[33m\"\u001B[39m, cerebro.broker.getvalue())\n\u001B[32m---> \u001B[39m\u001B[32m11\u001B[39m results = \u001B[43mcerebro\u001B[49m\u001B[43m.\u001B[49m\u001B[43mrun\u001B[49m\u001B[43m(\u001B[49m\u001B[43m)\u001B[49m\n\u001B[32m     12\u001B[39m \u001B[38;5;28mprint\u001B[39m(\u001B[33m\"\u001B[39m\u001B[33mFinal Portfolio Value:\u001B[39m\u001B[33m\"\u001B[39m, cerebro.broker.getvalue())\n\u001B[32m     13\u001B[39m cerebro.plot(style=\u001B[33m\"\u001B[39m\u001B[33mcandlestick\u001B[39m\u001B[33m\"\u001B[39m)\n",
      "\u001B[36mFile \u001B[39m\u001B[32m/opt/homebrew/Caskroom/miniconda/base/envs/nancy-backtest/lib/python3.13/site-packages/backtrader/cerebro.py:1132\u001B[39m, in \u001B[36mCerebro.run\u001B[39m\u001B[34m(self, **kwargs)\u001B[39m\n\u001B[32m   1128\u001B[39m \u001B[38;5;28;01mif\u001B[39;00m \u001B[38;5;129;01mnot\u001B[39;00m \u001B[38;5;28mself\u001B[39m._dooptimize \u001B[38;5;129;01mor\u001B[39;00m \u001B[38;5;28mself\u001B[39m.p.maxcpus == \u001B[32m1\u001B[39m:\n\u001B[32m   1129\u001B[39m     \u001B[38;5;66;03m# If no optimmization is wished ... or 1 core is to be used\u001B[39;00m\n\u001B[32m   1130\u001B[39m     \u001B[38;5;66;03m# let's skip process \"spawning\"\u001B[39;00m\n\u001B[32m   1131\u001B[39m     \u001B[38;5;28;01mfor\u001B[39;00m iterstrat \u001B[38;5;129;01min\u001B[39;00m iterstrats:\n\u001B[32m-> \u001B[39m\u001B[32m1132\u001B[39m         runstrat = \u001B[38;5;28;43mself\u001B[39;49m\u001B[43m.\u001B[49m\u001B[43mrunstrategies\u001B[49m\u001B[43m(\u001B[49m\u001B[43miterstrat\u001B[49m\u001B[43m)\u001B[49m\n\u001B[32m   1133\u001B[39m         \u001B[38;5;28mself\u001B[39m.runstrats.append(runstrat)\n\u001B[32m   1134\u001B[39m         \u001B[38;5;28;01mif\u001B[39;00m \u001B[38;5;28mself\u001B[39m._dooptimize:\n",
      "\u001B[36mFile \u001B[39m\u001B[32m/opt/homebrew/Caskroom/miniconda/base/envs/nancy-backtest/lib/python3.13/site-packages/backtrader/cerebro.py:1215\u001B[39m, in \u001B[36mCerebro.runstrategies\u001B[39m\u001B[34m(self, iterstrat, predata)\u001B[39m\n\u001B[32m   1213\u001B[39m \u001B[38;5;28;01mif\u001B[39;00m \u001B[38;5;28mself\u001B[39m._exactbars < \u001B[32m1\u001B[39m:  \u001B[38;5;66;03m# datas can be full length\u001B[39;00m\n\u001B[32m   1214\u001B[39m     data.extend(size=\u001B[38;5;28mself\u001B[39m.params.lookahead)\n\u001B[32m-> \u001B[39m\u001B[32m1215\u001B[39m \u001B[43mdata\u001B[49m\u001B[43m.\u001B[49m\u001B[43m_start\u001B[49m\u001B[43m(\u001B[49m\u001B[43m)\u001B[49m\n\u001B[32m   1216\u001B[39m \u001B[38;5;28;01mif\u001B[39;00m \u001B[38;5;28mself\u001B[39m._dopreload:\n\u001B[32m   1217\u001B[39m     data.preload()\n",
      "\u001B[36mFile \u001B[39m\u001B[32m/opt/homebrew/Caskroom/miniconda/base/envs/nancy-backtest/lib/python3.13/site-packages/backtrader/feed.py:203\u001B[39m, in \u001B[36mAbstractDataBase._start\u001B[39m\u001B[34m(self)\u001B[39m\n\u001B[32m    202\u001B[39m \u001B[38;5;28;01mdef\u001B[39;00m\u001B[38;5;250m \u001B[39m\u001B[34m_start\u001B[39m(\u001B[38;5;28mself\u001B[39m):\n\u001B[32m--> \u001B[39m\u001B[32m203\u001B[39m     \u001B[38;5;28;43mself\u001B[39;49m\u001B[43m.\u001B[49m\u001B[43mstart\u001B[49m\u001B[43m(\u001B[49m\u001B[43m)\u001B[49m\n\u001B[32m    205\u001B[39m     \u001B[38;5;28;01mif\u001B[39;00m \u001B[38;5;129;01mnot\u001B[39;00m \u001B[38;5;28mself\u001B[39m._started:\n\u001B[32m    206\u001B[39m         \u001B[38;5;28mself\u001B[39m._start_finish()\n",
      "\u001B[36mFile \u001B[39m\u001B[32m/opt/homebrew/Caskroom/miniconda/base/envs/nancy-backtest/lib/python3.13/site-packages/backtrader/feeds/pandafeed.py:212\u001B[39m, in \u001B[36mPandasData.start\u001B[39m\u001B[34m(self)\u001B[39m\n\u001B[32m    210\u001B[39m \u001B[38;5;66;03m# Transform names (valid for .ix) into indices (good for .iloc)\u001B[39;00m\n\u001B[32m    211\u001B[39m \u001B[38;5;28;01mif\u001B[39;00m \u001B[38;5;28mself\u001B[39m.p.nocase:\n\u001B[32m--> \u001B[39m\u001B[32m212\u001B[39m     colnames = [\u001B[43mx\u001B[49m\u001B[43m.\u001B[49m\u001B[43mlower\u001B[49m() \u001B[38;5;28;01mfor\u001B[39;00m x \u001B[38;5;129;01min\u001B[39;00m \u001B[38;5;28mself\u001B[39m.p.dataname.columns.values]\n\u001B[32m    213\u001B[39m \u001B[38;5;28;01melse\u001B[39;00m:\n\u001B[32m    214\u001B[39m     colnames = [x \u001B[38;5;28;01mfor\u001B[39;00m x \u001B[38;5;129;01min\u001B[39;00m \u001B[38;5;28mself\u001B[39m.p.dataname.columns.values]\n",
      "\u001B[31mAttributeError\u001B[39m: 'tuple' object has no attribute 'lower'"
     ]
    }
   ],
   "execution_count": 19
  },
  {
   "metadata": {
    "ExecuteTime": {
     "end_time": "2025-08-27T16:03:48.628400Z",
     "start_time": "2025-08-27T16:03:38.514135Z"
    }
   },
   "cell_type": "code",
   "source": "",
   "id": "9622fa4e0a9186c8",
   "outputs": [
    {
     "name": "stdout",
     "output_type": "stream",
     "text": [
      "Found 27 unique tickers\n"
     ]
    },
    {
     "name": "stderr",
     "output_type": "stream",
     "text": [
      "[*********************100%***********************]  1 of 1 completed\n",
      "\n",
      "1 Failed download:\n",
      "['AVGO']: Timeout('Failed to perform, curl: (28) Operation timed out after 10001 milliseconds with 0 bytes received. See https://curl.se/libcurl/c/libcurl-errors.html first for more details.')\n"
     ]
    },
    {
     "name": "stdout",
     "output_type": "stream",
     "text": [
      "✗ No data for AVGO\n",
      "✓ Loaded AMZN from cache\n",
      "✓ Loaded GOOGL from cache\n",
      "✓ Loaded NVDA from cache\n",
      "✓ Loaded TEM from cache\n",
      "✓ Loaded VST from cache\n",
      "✓ Loaded PANW from cache\n",
      "✓ Loaded AAPL from cache\n",
      "✓ Loaded MSFT from cache\n",
      "✓ Loaded GOOG from cache\n",
      "✓ Loaded TSLA from cache\n",
      "✓ Loaded AXP from cache\n",
      "✓ Loaded DIS from cache\n",
      "✓ Loaded PYPL from cache\n",
      "✓ Loaded MU from cache\n",
      "✓ Loaded CRM from cache\n",
      "✓ Loaded RBLX from cache\n",
      "✓ Loaded AB from cache\n",
      "✓ Loaded CRWD from cache\n",
      "✓ Loaded NFLX from cache\n",
      "\n",
      "Successfully loaded 19 tickers\n"
     ]
    },
    {
     "name": "stderr",
     "output_type": "stream",
     "text": [
      "/var/folders/v0/tllws09j6qnc4kds9pv97y6r0000gn/T/ipykernel_77109/2315372195.py:44: UserWarning: Could not infer format, so each element will be parsed individually, falling back to `dateutil`. To ensure parsing is consistent and as-expected, please specify a format.\n",
      "  stock_data = pd.read_csv(cache_file, index_col=0, parse_dates=True)\n",
      "/var/folders/v0/tllws09j6qnc4kds9pv97y6r0000gn/T/ipykernel_77109/2315372195.py:44: UserWarning: Could not infer format, so each element will be parsed individually, falling back to `dateutil`. To ensure parsing is consistent and as-expected, please specify a format.\n",
      "  stock_data = pd.read_csv(cache_file, index_col=0, parse_dates=True)\n",
      "/var/folders/v0/tllws09j6qnc4kds9pv97y6r0000gn/T/ipykernel_77109/2315372195.py:44: UserWarning: Could not infer format, so each element will be parsed individually, falling back to `dateutil`. To ensure parsing is consistent and as-expected, please specify a format.\n",
      "  stock_data = pd.read_csv(cache_file, index_col=0, parse_dates=True)\n",
      "/var/folders/v0/tllws09j6qnc4kds9pv97y6r0000gn/T/ipykernel_77109/2315372195.py:44: UserWarning: Could not infer format, so each element will be parsed individually, falling back to `dateutil`. To ensure parsing is consistent and as-expected, please specify a format.\n",
      "  stock_data = pd.read_csv(cache_file, index_col=0, parse_dates=True)\n",
      "/var/folders/v0/tllws09j6qnc4kds9pv97y6r0000gn/T/ipykernel_77109/2315372195.py:44: UserWarning: Could not infer format, so each element will be parsed individually, falling back to `dateutil`. To ensure parsing is consistent and as-expected, please specify a format.\n",
      "  stock_data = pd.read_csv(cache_file, index_col=0, parse_dates=True)\n",
      "/var/folders/v0/tllws09j6qnc4kds9pv97y6r0000gn/T/ipykernel_77109/2315372195.py:44: UserWarning: Could not infer format, so each element will be parsed individually, falling back to `dateutil`. To ensure parsing is consistent and as-expected, please specify a format.\n",
      "  stock_data = pd.read_csv(cache_file, index_col=0, parse_dates=True)\n",
      "/var/folders/v0/tllws09j6qnc4kds9pv97y6r0000gn/T/ipykernel_77109/2315372195.py:44: UserWarning: Could not infer format, so each element will be parsed individually, falling back to `dateutil`. To ensure parsing is consistent and as-expected, please specify a format.\n",
      "  stock_data = pd.read_csv(cache_file, index_col=0, parse_dates=True)\n",
      "/var/folders/v0/tllws09j6qnc4kds9pv97y6r0000gn/T/ipykernel_77109/2315372195.py:44: UserWarning: Could not infer format, so each element will be parsed individually, falling back to `dateutil`. To ensure parsing is consistent and as-expected, please specify a format.\n",
      "  stock_data = pd.read_csv(cache_file, index_col=0, parse_dates=True)\n",
      "/var/folders/v0/tllws09j6qnc4kds9pv97y6r0000gn/T/ipykernel_77109/2315372195.py:44: UserWarning: Could not infer format, so each element will be parsed individually, falling back to `dateutil`. To ensure parsing is consistent and as-expected, please specify a format.\n",
      "  stock_data = pd.read_csv(cache_file, index_col=0, parse_dates=True)\n",
      "/var/folders/v0/tllws09j6qnc4kds9pv97y6r0000gn/T/ipykernel_77109/2315372195.py:44: UserWarning: Could not infer format, so each element will be parsed individually, falling back to `dateutil`. To ensure parsing is consistent and as-expected, please specify a format.\n",
      "  stock_data = pd.read_csv(cache_file, index_col=0, parse_dates=True)\n",
      "/var/folders/v0/tllws09j6qnc4kds9pv97y6r0000gn/T/ipykernel_77109/2315372195.py:44: UserWarning: Could not infer format, so each element will be parsed individually, falling back to `dateutil`. To ensure parsing is consistent and as-expected, please specify a format.\n",
      "  stock_data = pd.read_csv(cache_file, index_col=0, parse_dates=True)\n",
      "/var/folders/v0/tllws09j6qnc4kds9pv97y6r0000gn/T/ipykernel_77109/2315372195.py:44: UserWarning: Could not infer format, so each element will be parsed individually, falling back to `dateutil`. To ensure parsing is consistent and as-expected, please specify a format.\n",
      "  stock_data = pd.read_csv(cache_file, index_col=0, parse_dates=True)\n",
      "/var/folders/v0/tllws09j6qnc4kds9pv97y6r0000gn/T/ipykernel_77109/2315372195.py:44: UserWarning: Could not infer format, so each element will be parsed individually, falling back to `dateutil`. To ensure parsing is consistent and as-expected, please specify a format.\n",
      "  stock_data = pd.read_csv(cache_file, index_col=0, parse_dates=True)\n",
      "/var/folders/v0/tllws09j6qnc4kds9pv97y6r0000gn/T/ipykernel_77109/2315372195.py:44: UserWarning: Could not infer format, so each element will be parsed individually, falling back to `dateutil`. To ensure parsing is consistent and as-expected, please specify a format.\n",
      "  stock_data = pd.read_csv(cache_file, index_col=0, parse_dates=True)\n",
      "/var/folders/v0/tllws09j6qnc4kds9pv97y6r0000gn/T/ipykernel_77109/2315372195.py:44: UserWarning: Could not infer format, so each element will be parsed individually, falling back to `dateutil`. To ensure parsing is consistent and as-expected, please specify a format.\n",
      "  stock_data = pd.read_csv(cache_file, index_col=0, parse_dates=True)\n",
      "/var/folders/v0/tllws09j6qnc4kds9pv97y6r0000gn/T/ipykernel_77109/2315372195.py:44: UserWarning: Could not infer format, so each element will be parsed individually, falling back to `dateutil`. To ensure parsing is consistent and as-expected, please specify a format.\n",
      "  stock_data = pd.read_csv(cache_file, index_col=0, parse_dates=True)\n",
      "/var/folders/v0/tllws09j6qnc4kds9pv97y6r0000gn/T/ipykernel_77109/2315372195.py:44: UserWarning: Could not infer format, so each element will be parsed individually, falling back to `dateutil`. To ensure parsing is consistent and as-expected, please specify a format.\n",
      "  stock_data = pd.read_csv(cache_file, index_col=0, parse_dates=True)\n",
      "/var/folders/v0/tllws09j6qnc4kds9pv97y6r0000gn/T/ipykernel_77109/2315372195.py:44: UserWarning: Could not infer format, so each element will be parsed individually, falling back to `dateutil`. To ensure parsing is consistent and as-expected, please specify a format.\n",
      "  stock_data = pd.read_csv(cache_file, index_col=0, parse_dates=True)\n",
      "/var/folders/v0/tllws09j6qnc4kds9pv97y6r0000gn/T/ipykernel_77109/2315372195.py:44: UserWarning: Could not infer format, so each element will be parsed individually, falling back to `dateutil`. To ensure parsing is consistent and as-expected, please specify a format.\n",
      "  stock_data = pd.read_csv(cache_file, index_col=0, parse_dates=True)\n"
     ]
    }
   ],
   "execution_count": 12
  },
  {
   "metadata": {
    "ExecuteTime": {
     "end_time": "2025-08-27T16:05:23.356351Z",
     "start_time": "2025-08-27T16:05:23.246747Z"
    }
   },
   "cell_type": "code",
   "source": [
    "\n",
    "print(f'\\nStarting Portfolio Value: {cerebro.broker.getvalue():.2f}')\n",
    "results = cerebro.run()\n",
    "# print(f'Final Portfolio Value: {cerebro.broker.getvalue():.2f}')\n",
    "# strat = results\n",
    "# (print analysis as before...)\n",
    "# cerebro.plot(style='candlestick')\n"
   ],
   "id": "3c15db339b1fdd21",
   "outputs": [
    {
     "name": "stdout",
     "output_type": "stream",
     "text": [
      "\n",
      "Starting Portfolio Value: 100000.00\n"
     ]
    },
    {
     "ename": "TypeError",
     "evalue": "must be real number, not str",
     "output_type": "error",
     "traceback": [
      "\u001B[31m---------------------------------------------------------------------------\u001B[39m",
      "\u001B[31mTypeError\u001B[39m                                 Traceback (most recent call last)",
      "\u001B[36mCell\u001B[39m\u001B[36m \u001B[39m\u001B[32mIn[13]\u001B[39m\u001B[32m, line 2\u001B[39m\n\u001B[32m      1\u001B[39m \u001B[38;5;28mprint\u001B[39m(\u001B[33mf\u001B[39m\u001B[33m'\u001B[39m\u001B[38;5;130;01m\\n\u001B[39;00m\u001B[33mStarting Portfolio Value: \u001B[39m\u001B[38;5;132;01m{\u001B[39;00mcerebro.broker.getvalue()\u001B[38;5;132;01m:\u001B[39;00m\u001B[33m.2f\u001B[39m\u001B[38;5;132;01m}\u001B[39;00m\u001B[33m'\u001B[39m)\n\u001B[32m----> \u001B[39m\u001B[32m2\u001B[39m results = \u001B[43mcerebro\u001B[49m\u001B[43m.\u001B[49m\u001B[43mrun\u001B[49m\u001B[43m(\u001B[49m\u001B[43m)\u001B[49m\n\u001B[32m      3\u001B[39m \u001B[38;5;66;03m# print(f'Final Portfolio Value: {cerebro.broker.getvalue():.2f}')\u001B[39;00m\n\u001B[32m      4\u001B[39m \u001B[38;5;66;03m# strat = results\u001B[39;00m\n\u001B[32m      5\u001B[39m \u001B[38;5;66;03m# (print analysis as before...)\u001B[39;00m\n\u001B[32m      6\u001B[39m \u001B[38;5;66;03m# cerebro.plot(style='candlestick')\u001B[39;00m\n",
      "\u001B[36mFile \u001B[39m\u001B[32m/opt/homebrew/Caskroom/miniconda/base/envs/nancy-backtest/lib/python3.13/site-packages/backtrader/cerebro.py:1132\u001B[39m, in \u001B[36mCerebro.run\u001B[39m\u001B[34m(self, **kwargs)\u001B[39m\n\u001B[32m   1128\u001B[39m \u001B[38;5;28;01mif\u001B[39;00m \u001B[38;5;129;01mnot\u001B[39;00m \u001B[38;5;28mself\u001B[39m._dooptimize \u001B[38;5;129;01mor\u001B[39;00m \u001B[38;5;28mself\u001B[39m.p.maxcpus == \u001B[32m1\u001B[39m:\n\u001B[32m   1129\u001B[39m     \u001B[38;5;66;03m# If no optimmization is wished ... or 1 core is to be used\u001B[39;00m\n\u001B[32m   1130\u001B[39m     \u001B[38;5;66;03m# let's skip process \"spawning\"\u001B[39;00m\n\u001B[32m   1131\u001B[39m     \u001B[38;5;28;01mfor\u001B[39;00m iterstrat \u001B[38;5;129;01min\u001B[39;00m iterstrats:\n\u001B[32m-> \u001B[39m\u001B[32m1132\u001B[39m         runstrat = \u001B[38;5;28;43mself\u001B[39;49m\u001B[43m.\u001B[49m\u001B[43mrunstrategies\u001B[49m\u001B[43m(\u001B[49m\u001B[43miterstrat\u001B[49m\u001B[43m)\u001B[49m\n\u001B[32m   1133\u001B[39m         \u001B[38;5;28mself\u001B[39m.runstrats.append(runstrat)\n\u001B[32m   1134\u001B[39m         \u001B[38;5;28;01mif\u001B[39;00m \u001B[38;5;28mself\u001B[39m._dooptimize:\n",
      "\u001B[36mFile \u001B[39m\u001B[32m/opt/homebrew/Caskroom/miniconda/base/envs/nancy-backtest/lib/python3.13/site-packages/backtrader/cerebro.py:1217\u001B[39m, in \u001B[36mCerebro.runstrategies\u001B[39m\u001B[34m(self, iterstrat, predata)\u001B[39m\n\u001B[32m   1215\u001B[39m         data._start()\n\u001B[32m   1216\u001B[39m         \u001B[38;5;28;01mif\u001B[39;00m \u001B[38;5;28mself\u001B[39m._dopreload:\n\u001B[32m-> \u001B[39m\u001B[32m1217\u001B[39m             \u001B[43mdata\u001B[49m\u001B[43m.\u001B[49m\u001B[43mpreload\u001B[49m\u001B[43m(\u001B[49m\u001B[43m)\u001B[49m\n\u001B[32m   1219\u001B[39m \u001B[38;5;28;01mfor\u001B[39;00m stratcls, sargs, skwargs \u001B[38;5;129;01min\u001B[39;00m iterstrat:\n\u001B[32m   1220\u001B[39m     sargs = \u001B[38;5;28mself\u001B[39m.datas + \u001B[38;5;28mlist\u001B[39m(sargs)\n",
      "\u001B[36mFile \u001B[39m\u001B[32m/opt/homebrew/Caskroom/miniconda/base/envs/nancy-backtest/lib/python3.13/site-packages/backtrader/feed.py:439\u001B[39m, in \u001B[36mAbstractDataBase.preload\u001B[39m\u001B[34m(self)\u001B[39m\n\u001B[32m    438\u001B[39m \u001B[38;5;28;01mdef\u001B[39;00m\u001B[38;5;250m \u001B[39m\u001B[34mpreload\u001B[39m(\u001B[38;5;28mself\u001B[39m):\n\u001B[32m--> \u001B[39m\u001B[32m439\u001B[39m     \u001B[38;5;28;01mwhile\u001B[39;00m \u001B[38;5;28;43mself\u001B[39;49m\u001B[43m.\u001B[49m\u001B[43mload\u001B[49m\u001B[43m(\u001B[49m\u001B[43m)\u001B[49m:\n\u001B[32m    440\u001B[39m         \u001B[38;5;28;01mpass\u001B[39;00m\n\u001B[32m    442\u001B[39m     \u001B[38;5;28mself\u001B[39m._last()\n",
      "\u001B[36mFile \u001B[39m\u001B[32m/opt/homebrew/Caskroom/miniconda/base/envs/nancy-backtest/lib/python3.13/site-packages/backtrader/feed.py:480\u001B[39m, in \u001B[36mAbstractDataBase.load\u001B[39m\u001B[34m(self)\u001B[39m\n\u001B[32m    477\u001B[39m     \u001B[38;5;28;01mreturn\u001B[39;00m \u001B[38;5;28;01mTrue\u001B[39;00m\n\u001B[32m    479\u001B[39m \u001B[38;5;28;01mif\u001B[39;00m \u001B[38;5;129;01mnot\u001B[39;00m \u001B[38;5;28mself\u001B[39m._fromstack(stash=\u001B[38;5;28;01mTrue\u001B[39;00m):\n\u001B[32m--> \u001B[39m\u001B[32m480\u001B[39m     _loadret = \u001B[38;5;28;43mself\u001B[39;49m\u001B[43m.\u001B[49m\u001B[43m_load\u001B[49m\u001B[43m(\u001B[49m\u001B[43m)\u001B[49m\n\u001B[32m    481\u001B[39m     \u001B[38;5;28;01mif\u001B[39;00m \u001B[38;5;129;01mnot\u001B[39;00m _loadret:  \u001B[38;5;66;03m# no bar use force to make sure in exactbars\u001B[39;00m\n\u001B[32m    482\u001B[39m         \u001B[38;5;66;03m# the pointer is undone this covers especially (but not\u001B[39;00m\n\u001B[32m    483\u001B[39m         \u001B[38;5;66;03m# uniquely) the case in which the last bar has been seen\u001B[39;00m\n\u001B[32m    484\u001B[39m         \u001B[38;5;66;03m# and a backwards would ruin pointer accounting in the\u001B[39;00m\n\u001B[32m    485\u001B[39m         \u001B[38;5;66;03m# \"stop\" method of the strategy\u001B[39;00m\n\u001B[32m    486\u001B[39m         \u001B[38;5;28mself\u001B[39m.backwards(force=\u001B[38;5;28;01mTrue\u001B[39;00m)  \u001B[38;5;66;03m# undo data pointer\u001B[39;00m\n",
      "\u001B[36mFile \u001B[39m\u001B[32m/opt/homebrew/Caskroom/miniconda/base/envs/nancy-backtest/lib/python3.13/site-packages/backtrader/feeds/pandafeed.py:255\u001B[39m, in \u001B[36mPandasData._load\u001B[39m\u001B[34m(self)\u001B[39m\n\u001B[32m    252\u001B[39m     line = \u001B[38;5;28mgetattr\u001B[39m(\u001B[38;5;28mself\u001B[39m.lines, datafield)\n\u001B[32m    254\u001B[39m     \u001B[38;5;66;03m# indexing for pandas: 1st is colum, then row\u001B[39;00m\n\u001B[32m--> \u001B[39m\u001B[32m255\u001B[39m     \u001B[43mline\u001B[49m\u001B[43m[\u001B[49m\u001B[32;43m0\u001B[39;49m\u001B[43m]\u001B[49m = \u001B[38;5;28mself\u001B[39m.p.dataname.iloc[\u001B[38;5;28mself\u001B[39m._idx, colindex]\n\u001B[32m    257\u001B[39m \u001B[38;5;66;03m# datetime conversion\u001B[39;00m\n\u001B[32m    258\u001B[39m coldtime = \u001B[38;5;28mself\u001B[39m._colmapping[\u001B[33m'\u001B[39m\u001B[33mdatetime\u001B[39m\u001B[33m'\u001B[39m]\n",
      "\u001B[36mFile \u001B[39m\u001B[32m/opt/homebrew/Caskroom/miniconda/base/envs/nancy-backtest/lib/python3.13/site-packages/backtrader/linebuffer.py:222\u001B[39m, in \u001B[36mLineBuffer.__setitem__\u001B[39m\u001B[34m(self, ago, value)\u001B[39m\n\u001B[32m    214\u001B[39m \u001B[38;5;28;01mdef\u001B[39;00m\u001B[38;5;250m \u001B[39m\u001B[34m__setitem__\u001B[39m(\u001B[38;5;28mself\u001B[39m, ago, value):\n\u001B[32m    215\u001B[39m \u001B[38;5;250m    \u001B[39m\u001B[33;03m''' Sets a value at position \"ago\" and executes any associated bindings\u001B[39;00m\n\u001B[32m    216\u001B[39m \n\u001B[32m    217\u001B[39m \u001B[33;03m    Keyword Args:\u001B[39;00m\n\u001B[32m   (...)\u001B[39m\u001B[32m    220\u001B[39m \u001B[33;03m        value (variable): value to be set\u001B[39;00m\n\u001B[32m    221\u001B[39m \u001B[33;03m    '''\u001B[39;00m\n\u001B[32m--> \u001B[39m\u001B[32m222\u001B[39m     \u001B[38;5;28;43mself\u001B[39;49m\u001B[43m.\u001B[49m\u001B[43marray\u001B[49m\u001B[43m[\u001B[49m\u001B[38;5;28;43mself\u001B[39;49m\u001B[43m.\u001B[49m\u001B[43midx\u001B[49m\u001B[43m \u001B[49m\u001B[43m+\u001B[49m\u001B[43m \u001B[49m\u001B[43mago\u001B[49m\u001B[43m]\u001B[49m = value\n\u001B[32m    223\u001B[39m     \u001B[38;5;28;01mfor\u001B[39;00m binding \u001B[38;5;129;01min\u001B[39;00m \u001B[38;5;28mself\u001B[39m.bindings:\n\u001B[32m    224\u001B[39m         binding[ago] = value\n",
      "\u001B[31mTypeError\u001B[39m: must be real number, not str"
     ]
    }
   ],
   "execution_count": 13
  },
  {
   "metadata": {},
   "cell_type": "code",
   "outputs": [],
   "execution_count": null,
   "source": [
    "print(df.head())\n",
    "print(df.columns)"
   ],
   "id": "ff06638b3d8a822d"
  }
 ],
 "metadata": {
  "kernelspec": {
   "name": "python3",
   "language": "python",
   "display_name": "Python 3 (ipykernel)"
  }
 },
 "nbformat": 5,
 "nbformat_minor": 9
}
